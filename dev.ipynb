{
 "cells": [
  {
   "cell_type": "code",
   "execution_count": 1,
   "metadata": {},
   "outputs": [
    {
     "name": "stderr",
     "output_type": "stream",
     "text": [
      "/home/athekunal/MCP-SEC-Filings/.venv/lib/python3.12/site-packages/tqdm/auto.py:21: TqdmWarning: IProgress not found. Please update jupyter and ipywidgets. See https://ipywidgets.readthedocs.io/en/stable/user_install.html\n",
      "  from .autonotebook import tqdm as notebook_tqdm\n"
     ]
    }
   ],
   "source": [
    "from docling.document_converter import DocumentConverter"
   ]
  },
  {
   "cell_type": "code",
   "execution_count": 3,
   "metadata": {},
   "outputs": [],
   "source": [
    "model_name = \"ds4sd/SmolDocling-256M-preview\"\n",
    "source = \"/home/athekunal/MCP-SEC-Filings/SEC_EDGAR_FILINGS/AMZN-2024/amzn-20240331-10-Q1.pdf\"  # document per local path or URL\n",
    "\n",
    "from pdf2image import convert_from_path, convert_from_bytes\n",
    "images = convert_from_path(source)"
   ]
  },
  {
   "cell_type": "code",
   "execution_count": 8,
   "metadata": {},
   "outputs": [
    {
     "data": {
      "text/plain": [
       "'amzn-20240331-10-Q1'"
      ]
     },
     "execution_count": 8,
     "metadata": {},
     "output_type": "execute_result"
    }
   ],
   "source": [
    "import pathlib \n",
    "\n",
    "pathlib.Path(source).stem"
   ]
  },
  {
   "cell_type": "code",
   "execution_count": 7,
   "metadata": {},
   "outputs": [
    {
     "data": {
      "text/plain": [
       "PIL.PpmImagePlugin.PpmImageFile"
      ]
     },
     "execution_count": 7,
     "metadata": {},
     "output_type": "execute_result"
    }
   ],
   "source": [
    "type(images[0])"
   ]
  },
  {
   "cell_type": "code",
   "execution_count": 4,
   "metadata": {},
   "outputs": [
    {
     "name": "stderr",
     "output_type": "stream",
     "text": [
      "Truncation was not explicitly activated but `max_length` is provided a specific value, please use `truncation=True` to explicitly truncate examples to max length. Defaulting to 'longest_first' truncation strategy. If you encode pairs of sequences (GLUE-style) with the tokenizer you can select this strategy more precisely by providing a specific strategy to `truncation`.\n"
     ]
    },
    {
     "name": "stdout",
     "output_type": "stream",
     "text": [
      "<doctag><page_header><loc_14><loc_6><loc_71><loc_11>Table of Contents</page_header>\n",
      "<section_header_level_1><loc_168><loc_26><loc_332><loc_31>AMAZON.COM, INC.</section_header_level_1>\n",
      "<text><loc_185><loc_33><loc_315><loc_38>CONSOLIDATED STATEMENTS OF OPERATIONS</text>\n",
      "<text><loc_190><loc_35><loc_314><loc_40>(in millions, except per share data)</text>\n",
      "<text><loc_222><loc_41><loc_268><loc_46>(unaudited)</text>\n",
      "<otsl><loc_14><loc_46><loc_490><loc_250><ecel><ched>Three Months Ended  March 31,<lcel><lcel><nl><ched>Net product sales<ched>2023<ched>2024<ched>2024<nl><rhed>Net service sales<fcel>$ 56,981<fcel>$ 60,915<fcel>$ 60,915<nl><rhed>Total net sales<fcel>70,377<fcel>82,398<fcel>127,358<nl><rhed>Operating expenses:<fcel>143,313<fcel>143,313<fcel>127,358<nl><rhed>Cost of sales<fcel>67,791<fcel>72,633<fcel>67,791<nl><rhed>Fulfillment<fcel>20,905<fcel>22,317<fcel>20,905<nl><rhed>Technology and infrastructure<fcel>20,450<fcel>20,424<fcel>20,450<nl><rhed>Sales and marketing<fcel>10,172<fcel>9,662<fcel>10,172<nl><rhed>General and administrative<fcel>3,043<fcel>2,742<fcel>3,043<nl><rhed>Other operating expense (income), net<fcel>223<fcel>228<fcel>223<nl><rhed>Total operating expenses<fcel>122,584<fcel>128,006<fcel>128,006<nl><rhed>Operating income<fcel>4,774<fcel>15,307<fcel>4,774<nl><rhed>Interest income<fcel>611<fcel>993<fcel>611<nl><rhed>Interest expense<fcel>(823)<fcel>(644)<fcel>(823)<nl><rhed>Other income (expense), net<fcel>(443)<fcel>(2,673)<fcel>(443)<nl><rhed>Total non-operating expense<fcel>(655)<fcel>(2,324)<fcel>(655)<nl><rhed>Income before income taxes<fcel>4,119<fcel>12,983<fcel>12,983<nl><rhed>Provision for income taxes<fcel>(948)<fcel>(2,467)<fcel>(948)<nl><rhed>Equity-method investment activity, net of tax<fcel>$ 1<fcel>$ (85)<fcel>$ (85)<nl><rhed>Net income<fcel>3,172<fcel>10,431<fcel>10,431<nl><rhed>Basic earnings per share<fcel>$ 0.31<fcel>$ 1.00<fcel>$ 0.31<nl><rhed>Diluted earnings per share<fcel>$ 0.31<fcel>0.98<fcel>0.98<nl><rhed>Weighted-average shares used in computation of earnings per share:<fcel>10,250<fcel>10,393<fcel>10,393<nl><rhed>Basic<fcel>10,347<fcel>10,670<fcel>10,670<nl><caption><loc_14><loc_6><loc_71><loc_11></caption></otsl>\n",
      "<text><loc_149><loc_247><loc_350><loc_252>See accompanying notes to consolidated financial statements.</text>\n",
      "<text><loc_246><loc_267><loc_250><loc_272>4</text>\n",
      "</doctag><end_of_utterance>\n",
      "## AMAZON.COM, INC.\n",
      "\n",
      "CONSOLIDATED STATEMENTS OF OPERATIONS\n",
      "\n",
      "(in millions, except per share data)\n",
      "\n",
      "(unaudited)\n",
      "\n",
      "|                                                                    | Three Months Ended  March 31,   | Three Months Ended  March 31,   | Three Months Ended  March 31,   |\n",
      "|--------------------------------------------------------------------|---------------------------------|---------------------------------|---------------------------------|\n",
      "| Net product sales                                                  | 2023                            | 2024                            | 2024                            |\n",
      "| Net service sales                                                  | $ 56,981                        | $ 60,915                        | $ 60,915                        |\n",
      "| Total net sales                                                    | 70,377                          | 82,398                          | 127,358                         |\n",
      "| Operating expenses:                                                | 143,313                         | 143,313                         | 127,358                         |\n",
      "| Cost of sales                                                      | 67,791                          | 72,633                          | 67,791                          |\n",
      "| Fulfillment                                                        | 20,905                          | 22,317                          | 20,905                          |\n",
      "| Technology and infrastructure                                      | 20,450                          | 20,424                          | 20,450                          |\n",
      "| Sales and marketing                                                | 10,172                          | 9,662                           | 10,172                          |\n",
      "| General and administrative                                         | 3,043                           | 2,742                           | 3,043                           |\n",
      "| Other operating expense (income), net                              | 223                             | 228                             | 223                             |\n",
      "| Total operating expenses                                           | 122,584                         | 128,006                         | 128,006                         |\n",
      "| Operating income                                                   | 4,774                           | 15,307                          | 4,774                           |\n",
      "| Interest income                                                    | 611                             | 993                             | 611                             |\n",
      "| Interest expense                                                   | (823)                           | (644)                           | (823)                           |\n",
      "| Other income (expense), net                                        | (443)                           | (2,673)                         | (443)                           |\n",
      "| Total non-operating expense                                        | (655)                           | (2,324)                         | (655)                           |\n",
      "| Income before income taxes                                         | 4,119                           | 12,983                          | 12,983                          |\n",
      "| Provision for income taxes                                         | (948)                           | (2,467)                         | (948)                           |\n",
      "| Equity-method investment activity, net of tax                      | $ 1                             | $ (85)                          | $ (85)                          |\n",
      "| Net income                                                         | 3,172                           | 10,431                          | 10,431                          |\n",
      "| Basic earnings per share                                           | $ 0.31                          | $ 1.00                          | $ 0.31                          |\n",
      "| Diluted earnings per share                                         | $ 0.31                          | 0.98                            | 0.98                            |\n",
      "| Weighted-average shares used in computation of earnings per share: | 10,250                          | 10,393                          | 10,393                          |\n",
      "| Basic                                                              | 10,347                          | 10,670                          | 10,670                          |\n",
      "\n",
      "See accompanying notes to consolidated financial statements.\n",
      "\n",
      "4\n"
     ]
    }
   ],
   "source": [
    "# Prerequisites:\n",
    "# pip install torch\n",
    "# pip install docling_core\n",
    "# pip install transformers\n",
    "\n",
    "import torch\n",
    "from docling_core.types.doc import DoclingDocument\n",
    "from docling_core.types.doc.document import DocTagsDocument\n",
    "from transformers import AutoProcessor, AutoModelForVision2Seq\n",
    "from transformers.image_utils import load_image\n",
    "from pathlib import Path\n",
    "\n",
    "DEVICE = \"cuda\" if torch.cuda.is_available() else \"cpu\"\n",
    "\n",
    "# Initialize processor and model\n",
    "processor = AutoProcessor.from_pretrained(\"ds4sd/SmolDocling-256M-preview\")\n",
    "model = AutoModelForVision2Seq.from_pretrained(\n",
    "    \"ds4sd/SmolDocling-256M-preview\",\n",
    "    torch_dtype=torch.bfloat16,\n",
    "    # _attn_implementation=\"flash_attention_2\" if DEVICE == \"cuda\" else \"eager\",\n",
    ").to(DEVICE)\n",
    "\n",
    "# Create input messages\n",
    "messages = [\n",
    "    {\n",
    "        \"role\": \"user\",\n",
    "        \"content\": [\n",
    "            {\"type\": \"image\"},\n",
    "            {\"type\": \"text\", \"text\": \"Convert this page to docling.\"}\n",
    "        ]\n",
    "    },\n",
    "]\n",
    "\n",
    "# Prepare inputs\n",
    "prompt = processor.apply_chat_template(messages, add_generation_prompt=True)\n",
    "inputs = processor(text=prompt, images=[images[3]], return_tensors=\"pt\")\n",
    "inputs = inputs.to(DEVICE)\n",
    "\n",
    "# Generate outputs\n",
    "generated_ids = model.generate(**inputs, max_new_tokens=8192)\n",
    "prompt_length = inputs.input_ids.shape[1]\n",
    "trimmed_generated_ids = generated_ids[:, prompt_length:]\n",
    "doctags = processor.batch_decode(\n",
    "    trimmed_generated_ids,\n",
    "    skip_special_tokens=False,\n",
    ")[0].lstrip()\n",
    "\n",
    "# Populate document\n",
    "doctags_doc = DocTagsDocument.from_doctags_and_image_pairs([doctags], [images[3]])\n",
    "print(doctags)\n",
    "# create a docling document\n",
    "doc = DoclingDocument(name=\"Document\")\n",
    "doc.load_from_doctags(doctags_doc)\n",
    "\n",
    "# export as any format\n",
    "# HTML\n",
    "# Path(\"Out/\").mkdir(parents=True, exist_ok=True)\n",
    "# output_path_html = Path(\"Out/\") / \"example.html\"\n",
    "# doc.save_as_html(output_path_html)\n",
    "# MD\n",
    "print(doc.export_to_markdown())\n"
   ]
  },
  {
   "cell_type": "code",
   "execution_count": null,
   "metadata": {},
   "outputs": [],
   "source": []
  }
 ],
 "metadata": {
  "kernelspec": {
   "display_name": ".venv",
   "language": "python",
   "name": "python3"
  },
  "language_info": {
   "codemirror_mode": {
    "name": "ipython",
    "version": 3
   },
   "file_extension": ".py",
   "mimetype": "text/x-python",
   "name": "python",
   "nbconvert_exporter": "python",
   "pygments_lexer": "ipython3",
   "version": "3.12.10"
  }
 },
 "nbformat": 4,
 "nbformat_minor": 2
}
