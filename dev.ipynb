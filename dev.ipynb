{
 "cells": [
  {
   "cell_type": "code",
   "execution_count": 1,
   "metadata": {},
   "outputs": [],
   "source": [
    "from mcp_sec_filings import sec_filings\n",
    "\n",
    "aapl_cik = sec_filings.get_cik_by_ticker('AAPL')"
   ]
  },
  {
   "cell_type": "code",
   "execution_count": 2,
   "metadata": {},
   "outputs": [
    {
     "data": {
      "text/plain": [
       "([['https://www.sec.gov/Archives/edgar/data/320193/000032019324000123/aapl-20240928.htm',\n",
       "   '10-K']],\n",
       " {'aapl-20240928-10-K.pdf': {'languages': ['English']}},\n",
       " 'output/SEC_EDGAR_FILINGS/AAPL-2024')"
      ]
     },
     "execution_count": 2,
     "metadata": {},
     "output_type": "execute_result"
    }
   ],
   "source": [
    "sec_filings.sec_save_pdfs('AAPL','2024',['10-K'])"
   ]
  },
  {
   "cell_type": "code",
   "execution_count": 1,
   "metadata": {},
   "outputs": [],
   "source": [
    "from mcp_sec_filings import datamodels\n",
    "\n",
    "sec = datamodels.SECFilingsRequest(ticker=\"aapl\",year=2024,include_amends=True, filing_types=['10-K'])"
   ]
  },
  {
   "cell_type": "code",
   "execution_count": 2,
   "metadata": {},
   "outputs": [
    {
     "data": {
      "text/plain": [
       "SECFilingsRequest(ticker='AAPL', year=2024, filing_types=['10-K'], include_amends=True)"
      ]
     },
     "execution_count": 2,
     "metadata": {},
     "output_type": "execute_result"
    }
   ],
   "source": [
    "sec"
   ]
  },
  {
   "cell_type": "code",
   "execution_count": null,
   "metadata": {},
   "outputs": [],
   "source": []
  }
 ],
 "metadata": {
  "kernelspec": {
   "display_name": "mcp-sec-filings-qT1mcflG-py3.12",
   "language": "python",
   "name": "python3"
  },
  "language_info": {
   "codemirror_mode": {
    "name": "ipython",
    "version": 3
   },
   "file_extension": ".py",
   "mimetype": "text/x-python",
   "name": "python",
   "nbconvert_exporter": "python",
   "pygments_lexer": "ipython3",
   "version": "3.12.5"
  }
 },
 "nbformat": 4,
 "nbformat_minor": 2
}
