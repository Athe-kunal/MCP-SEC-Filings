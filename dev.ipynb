{
 "cells": [
  {
   "cell_type": "code",
   "execution_count": 1,
   "metadata": {},
   "outputs": [],
   "source": [
    "from mcp_sec_filings import sec_filings\n",
    "\n",
    "aapl_cik = sec_filings.get_cik_by_ticker('AAPL')"
   ]
  },
  {
   "cell_type": "code",
   "execution_count": 2,
   "metadata": {},
   "outputs": [
    {
     "data": {
      "text/plain": [
       "([['https://www.sec.gov/Archives/edgar/data/320193/000032019324000123/aapl-20240928.htm',\n",
       "   '10-K']],\n",
       " {'aapl-20240928-10-K.pdf': {'languages': ['English']}},\n",
       " 'output/SEC_EDGAR_FILINGS/AAPL-2024')"
      ]
     },
     "execution_count": 2,
     "metadata": {},
     "output_type": "execute_result"
    }
   ],
   "source": [
    "sec_filings.sec_save_pdfs('AAPL','2024',['10-K'])"
   ]
  },
  {
   "cell_type": "code",
   "execution_count": 1,
   "metadata": {},
   "outputs": [],
   "source": [
    "from mcp_sec_filings import datamodels\n",
    "\n",
    "sec = datamodels.SECFilingsRequest(ticker=\"aapl\",year=2024,include_amends=True, filing_types=['10-K','10-Q'])"
   ]
  },
  {
   "cell_type": "code",
   "execution_count": 2,
   "metadata": {},
   "outputs": [
    {
     "data": {
      "text/plain": [
       "SECFilingsRequest(ticker='AAPL', year=2024, filing_types=['10-K', '10-Q'], include_amends=True)"
      ]
     },
     "execution_count": 2,
     "metadata": {},
     "output_type": "execute_result"
    }
   ],
   "source": [
    "sec"
   ]
  },
  {
   "cell_type": "code",
   "execution_count": 3,
   "metadata": {},
   "outputs": [
    {
     "name": "stderr",
     "output_type": "stream",
     "text": [
      "\u001b[32m2025-04-06 23:10:44.284\u001b[0m | \u001b[1mINFO    \u001b[0m | \u001b[36mmcp_sec_filings.sec_filings\u001b[0m:\u001b[36m_convert_html_to_pdfs\u001b[0m:\u001b[36m95\u001b[0m - \u001b[1mSaved filing 10-Q4 at pdf_path='SEC_EDGAR_FILINGS/AAPL-2024/aapl-20241228-10-Q4.pdf'\u001b[0m\n",
      "\u001b[32m2025-04-06 23:10:46.351\u001b[0m | \u001b[1mINFO    \u001b[0m | \u001b[36mmcp_sec_filings.sec_filings\u001b[0m:\u001b[36m_convert_html_to_pdfs\u001b[0m:\u001b[36m95\u001b[0m - \u001b[1mSaved filing 10-K at pdf_path='SEC_EDGAR_FILINGS/AAPL-2024/aapl-20240928-10-K.pdf'\u001b[0m\n",
      "\u001b[32m2025-04-06 23:10:47.832\u001b[0m | \u001b[1mINFO    \u001b[0m | \u001b[36mmcp_sec_filings.sec_filings\u001b[0m:\u001b[36m_convert_html_to_pdfs\u001b[0m:\u001b[36m95\u001b[0m - \u001b[1mSaved filing 10-Q2 at pdf_path='SEC_EDGAR_FILINGS/AAPL-2024/aapl-20240629-10-Q2.pdf'\u001b[0m\n",
      "\u001b[32m2025-04-06 23:10:49.353\u001b[0m | \u001b[1mINFO    \u001b[0m | \u001b[36mmcp_sec_filings.sec_filings\u001b[0m:\u001b[36m_convert_html_to_pdfs\u001b[0m:\u001b[36m95\u001b[0m - \u001b[1mSaved filing 10-Q1 at pdf_path='SEC_EDGAR_FILINGS/AAPL-2024/aapl-20240330-10-Q1.pdf'\u001b[0m\n"
     ]
    },
    {
     "data": {
      "text/plain": [
       "([HTMLURLList(rgld_cik=320193, html_url='https://www.sec.gov/Archives/edgar/data/320193/000032019325000008/aapl-20241228.htm', filing_name='10-Q4'),\n",
       "  HTMLURLList(rgld_cik=320193, html_url='https://www.sec.gov/Archives/edgar/data/320193/000032019324000123/aapl-20240928.htm', filing_name='10-K'),\n",
       "  HTMLURLList(rgld_cik=320193, html_url='https://www.sec.gov/Archives/edgar/data/320193/000032019324000081/aapl-20240629.htm', filing_name='10-Q2'),\n",
       "  HTMLURLList(rgld_cik=320193, html_url='https://www.sec.gov/Archives/edgar/data/320193/000032019324000069/aapl-20240330.htm', filing_name='10-Q1')],\n",
       " '/Users/athekunal/Desktop/MCP-SEC-Filings/SEC_EDGAR_FILINGS/AAPL-2024')"
      ]
     },
     "execution_count": 3,
     "metadata": {},
     "output_type": "execute_result"
    }
   ],
   "source": [
    "from mcp_sec_filings import sec_filings\n",
    "\n",
    "await sec_filings.sec_save_pdfs(sec)"
   ]
  },
  {
   "cell_type": "code",
   "execution_count": 1,
   "metadata": {},
   "outputs": [
    {
     "data": {
      "text/plain": [
       "2024"
      ]
     },
     "execution_count": 1,
     "metadata": {},
     "output_type": "execute_result"
    }
   ],
   "source": [
    "s = \"2024\"\n",
    "int(s)"
   ]
  },
  {
   "cell_type": "code",
   "execution_count": null,
   "metadata": {},
   "outputs": [],
   "source": []
  }
 ],
 "metadata": {
  "kernelspec": {
   "display_name": "mcp-sec-filings-qT1mcflG-py3.12",
   "language": "python",
   "name": "python3"
  },
  "language_info": {
   "codemirror_mode": {
    "name": "ipython",
    "version": 3
   },
   "file_extension": ".py",
   "mimetype": "text/x-python",
   "name": "python",
   "nbconvert_exporter": "python",
   "pygments_lexer": "ipython3",
   "version": "3.12.5"
  }
 },
 "nbformat": 4,
 "nbformat_minor": 2
}
